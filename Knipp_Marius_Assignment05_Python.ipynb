{
 "cells": [
  {
   "cell_type": "markdown",
   "id": "6356f473",
   "metadata": {},
   "source": [
    "---\n",
    "\n",
    "# Assignment 5 - GitHub and the ticketmaster.com API\n",
    "\n",
    "##### Marius Knipp (Student ID: 6290375)\n",
    "##### January 25, 2023"
   ]
  },
  {
   "cell_type": "code",
   "execution_count": 1,
   "id": "de3f4e5d",
   "metadata": {},
   "outputs": [],
   "source": [
    "import requests"
   ]
  },
  {
   "cell_type": "markdown",
   "id": "e70fbfeb",
   "metadata": {},
   "source": [
    "---\n",
    "### Getting to know the API"
   ]
  },
  {
   "cell_type": "markdown",
   "id": "c2aded1e",
   "metadata": {},
   "source": [
    "6) Whithin the scope of this assignment, you do not have to request your own API key. Instead retrieve a valid key from the API Explorer. This API key enables you to perform the GET requests needed throughout this assignment. Even though this API key is not secret per se (it is publicly visible on the API Explorer website), please comply to the common secrecy practices discussed in the lecture and the tutorial: Treat the API key as a secret token. Your API key should neither appear in the code that you are submitting nor in your public GitHub repository."
   ]
  },
  {
   "cell_type": "code",
   "execution_count": 2,
   "id": "323f523d",
   "metadata": {},
   "outputs": [],
   "source": [
    "with open('ticketmaster_key.py') as script:\n",
    "    exec(script.readline())"
   ]
  },
  {
   "cell_type": "markdown",
   "id": "b9b15cc8",
   "metadata": {},
   "source": [
    "---\n",
    "\n",
    "### Interacting with the API - the basics"
   ]
  },
  {
   "cell_type": "markdown",
   "id": "0a1c215c",
   "metadata": {},
   "source": [
    "7) Perform a first `GET` request, that searches for event venues in Germany (`countryCode = \"DE\"`). Extract the content from the response object and inspect the resulting list. Describe what you can see."
   ]
  },
  {
   "cell_type": "code",
   "execution_count": 12,
   "id": "28a1358e",
   "metadata": {},
   "outputs": [],
   "source": [
    "content = requests.get('https://app.ticketmaster.com/discovery/v2/venues',\n",
    "                       params={'apikey': ticketmaster_key, \n",
    "                               'locale': '*',\n",
    "                               'countryCode': 'DE'}).json()"
   ]
  },
  {
   "cell_type": "code",
   "execution_count": 13,
   "id": "3ec29cbd",
   "metadata": {},
   "outputs": [
    {
     "data": {
      "text/plain": [
       "{'size': 20, 'totalElements': 12932, 'totalPages': 647, 'number': 0}"
      ]
     },
     "execution_count": 13,
     "metadata": {},
     "output_type": "execute_result"
    }
   ],
   "source": [
    "content['page']"
   ]
  },
  {
   "cell_type": "code",
   "execution_count": 14,
   "id": "adb675cc",
   "metadata": {},
   "outputs": [
    {
     "data": {
      "text/plain": [
       "dict_keys(['name', 'type', 'id', 'test', 'url', 'locale', 'images', 'postalCode', 'timezone', 'city', 'country', 'address', 'location', 'markets', 'dmas', 'boxOfficeInfo', 'upcomingEvents', 'ada', '_links'])"
      ]
     },
     "execution_count": 14,
     "metadata": {},
     "output_type": "execute_result"
    }
   ],
   "source": [
    "content['_embedded']['venues'][0].keys()"
   ]
  },
  {
   "cell_type": "markdown",
   "id": "84cc36ee",
   "metadata": {},
   "source": [
    "*Answer: The list contains 20 venues in Germany with various information about each venue (e.g. name, URL, city etc.). These 20 venues are only on the first page. In total, there are 647 pages with 20 venues each, adding up to 12932 venues in Germany.*"
   ]
  }
 ],
 "metadata": {
  "kernelspec": {
   "display_name": "Python 3 (ipykernel)",
   "language": "python",
   "name": "python3"
  },
  "language_info": {
   "codemirror_mode": {
    "name": "ipython",
    "version": 3
   },
   "file_extension": ".py",
   "mimetype": "text/x-python",
   "name": "python",
   "nbconvert_exporter": "python",
   "pygments_lexer": "ipython3",
   "version": "3.9.13"
  }
 },
 "nbformat": 4,
 "nbformat_minor": 5
}
