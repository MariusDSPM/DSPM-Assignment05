{
 "cells": [
  {
   "cell_type": "markdown",
   "id": "3037850a",
   "metadata": {},
   "source": [
    "---\n",
    "\n",
    "# Assignment 5 - GitHub and the ticketmaster.com API\n",
    "\n",
    "##### Marius Knipp (Student ID: 6290375)\n",
    "##### January 25, 2023"
   ]
  },
  {
   "cell_type": "code",
   "execution_count": 1,
   "id": "581ea47d",
   "metadata": {},
   "outputs": [],
   "source": [
    "import numpy as np\n",
    "import pandas as pd\n",
    "import requests"
   ]
  },
  {
   "cell_type": "markdown",
   "id": "72e9608a",
   "metadata": {},
   "source": [
    "---\n",
    "### Getting to know the API"
   ]
  },
  {
   "cell_type": "markdown",
   "id": "3fb1f037",
   "metadata": {},
   "source": [
    "6) Whithin the scope of this assignment, you do not have to request your own API key. Instead retrieve a valid key from the API Explorer. This API key enables you to perform the GET requests needed throughout this assignment. Even though this API key is not secret per se (it is publicly visible on the API Explorer website), please comply to the common secrecy practices discussed in the lecture and the tutorial: Treat the API key as a secret token. Your API key should neither appear in the code that you are submitting nor in your public GitHub repository."
   ]
  },
  {
   "cell_type": "code",
   "execution_count": 2,
   "id": "1202dc9b",
   "metadata": {},
   "outputs": [],
   "source": [
    "with open('ticketmaster_key.py') as script:\n",
    "    exec(script.readline())"
   ]
  },
  {
   "cell_type": "markdown",
   "id": "1f81d1ed",
   "metadata": {},
   "source": [
    "---\n",
    "\n",
    "### Interacting with the API - the basics"
   ]
  },
  {
   "cell_type": "markdown",
   "id": "54ce2e76",
   "metadata": {},
   "source": [
    "7) Perform a first `GET` request, that searches for event venues in Germany (`countryCode = \"DE\"`). Extract the content from the response object and inspect the resulting list. Describe what you can see."
   ]
  },
  {
   "cell_type": "code",
   "execution_count": 3,
   "id": "5a1f2da5",
   "metadata": {},
   "outputs": [],
   "source": [
    "content = requests.get('https://app.ticketmaster.com/discovery/v2/venues',\n",
    "                       params={'apikey': ticketmaster_key, \n",
    "                               'locale': '*',\n",
    "                               'countryCode': 'DE'}).json()"
   ]
  },
  {
   "cell_type": "code",
   "execution_count": 4,
   "id": "6d07833e",
   "metadata": {},
   "outputs": [
    {
     "data": {
      "text/plain": [
       "{'size': 20, 'totalElements': 12932, 'totalPages': 647, 'number': 0}"
      ]
     },
     "execution_count": 4,
     "metadata": {},
     "output_type": "execute_result"
    }
   ],
   "source": [
    "content['page']"
   ]
  },
  {
   "cell_type": "code",
   "execution_count": 5,
   "id": "494e7cbc",
   "metadata": {},
   "outputs": [
    {
     "data": {
      "text/plain": [
       "dict_keys(['name', 'type', 'id', 'test', 'url', 'locale', 'images', 'postalCode', 'timezone', 'city', 'country', 'address', 'location', 'markets', 'dmas', 'boxOfficeInfo', 'upcomingEvents', 'ada', '_links'])"
      ]
     },
     "execution_count": 5,
     "metadata": {},
     "output_type": "execute_result"
    }
   ],
   "source": [
    "content['_embedded']['venues'][0].keys()"
   ]
  },
  {
   "cell_type": "markdown",
   "id": "14f9c3e6",
   "metadata": {},
   "source": [
    "*Answer: The list contains 20 venues in Germany with various information about each venue (e.g. name, URL, city etc.). These 20 venues are only on the first page. In total, there are 647 pages with 20 venues each, adding up to 12932 venues in Germany.*"
   ]
  },
  {
   "cell_type": "markdown",
   "id": "fd59fdd4",
   "metadata": {},
   "source": [
    "8) Extract the `name`, the `city`, the `postalCode` and `address`, as well as the `url` and the `longitude` and `latitude` of the venues to a data frame."
   ]
  },
  {
   "cell_type": "code",
   "execution_count": 6,
   "id": "accdeb73",
   "metadata": {},
   "outputs": [
    {
     "data": {
      "text/html": [
       "<div>\n",
       "<style scoped>\n",
       "    .dataframe tbody tr th:only-of-type {\n",
       "        vertical-align: middle;\n",
       "    }\n",
       "\n",
       "    .dataframe tbody tr th {\n",
       "        vertical-align: top;\n",
       "    }\n",
       "\n",
       "    .dataframe thead th {\n",
       "        text-align: right;\n",
       "    }\n",
       "</style>\n",
       "<table border=\"1\" class=\"dataframe\">\n",
       "  <thead>\n",
       "    <tr style=\"text-align: right;\">\n",
       "      <th></th>\n",
       "      <th>name</th>\n",
       "      <th>city</th>\n",
       "      <th>postalCode</th>\n",
       "      <th>address</th>\n",
       "      <th>url</th>\n",
       "      <th>longitude</th>\n",
       "      <th>latitude</th>\n",
       "    </tr>\n",
       "  </thead>\n",
       "  <tbody>\n",
       "    <tr>\n",
       "      <th>0</th>\n",
       "      <td>Grosse Freiheit 36</td>\n",
       "      <td>Hamburg</td>\n",
       "      <td>22767</td>\n",
       "      <td>Grosse Freiheit 36</td>\n",
       "      <td>http://www.ticketmaster.de/venue/287636</td>\n",
       "      <td>9.957905</td>\n",
       "      <td>53.551187</td>\n",
       "    </tr>\n",
       "    <tr>\n",
       "      <th>1</th>\n",
       "      <td>Gruenspan</td>\n",
       "      <td>Hamburg</td>\n",
       "      <td>22767</td>\n",
       "      <td>Grosse Freiheit 58</td>\n",
       "      <td>http://www.ticketmaster.de/venue/287155</td>\n",
       "      <td>9.958075</td>\n",
       "      <td>53.551885</td>\n",
       "    </tr>\n",
       "    <tr>\n",
       "      <th>2</th>\n",
       "      <td>Huxleys Neue Welt</td>\n",
       "      <td>Berlin</td>\n",
       "      <td>10967</td>\n",
       "      <td>Hasenheide 107 – 113</td>\n",
       "      <td>http://www.ticketmaster.de/venue/286842</td>\n",
       "      <td>13.42138</td>\n",
       "      <td>52.486391</td>\n",
       "    </tr>\n",
       "    <tr>\n",
       "      <th>3</th>\n",
       "      <td>Zentrum am Park</td>\n",
       "      <td>Emmelshausen</td>\n",
       "      <td>56281</td>\n",
       "      <td>Rhein-Mosel-Straße 45</td>\n",
       "      <td>https://www.ticketmaster.de/venue/zentrum-am-p...</td>\n",
       "      <td>7.55656</td>\n",
       "      <td>50.15544</td>\n",
       "    </tr>\n",
       "    <tr>\n",
       "      <th>4</th>\n",
       "      <td>Stadthalle (Theatersaal)</td>\n",
       "      <td>Mülheim</td>\n",
       "      <td>45479</td>\n",
       "      <td>Theodor-Heuss-Platz 1</td>\n",
       "      <td>https://www.ticketmaster.de/venue/stadthalle-t...</td>\n",
       "      <td>6.87471</td>\n",
       "      <td>51.42778</td>\n",
       "    </tr>\n",
       "  </tbody>\n",
       "</table>\n",
       "</div>"
      ],
      "text/plain": [
       "                       name          city postalCode                address  \\\n",
       "0        Grosse Freiheit 36       Hamburg      22767     Grosse Freiheit 36   \n",
       "1                 Gruenspan       Hamburg      22767     Grosse Freiheit 58   \n",
       "2         Huxleys Neue Welt        Berlin      10967   Hasenheide 107 – 113   \n",
       "3           Zentrum am Park  Emmelshausen      56281  Rhein-Mosel-Straße 45   \n",
       "4  Stadthalle (Theatersaal)       Mülheim      45479  Theodor-Heuss-Platz 1   \n",
       "\n",
       "                                                 url longitude   latitude  \n",
       "0            http://www.ticketmaster.de/venue/287636  9.957905  53.551187  \n",
       "1            http://www.ticketmaster.de/venue/287155  9.958075  53.551885  \n",
       "2            http://www.ticketmaster.de/venue/286842  13.42138  52.486391  \n",
       "3  https://www.ticketmaster.de/venue/zentrum-am-p...   7.55656   50.15544  \n",
       "4  https://www.ticketmaster.de/venue/stadthalle-t...   6.87471   51.42778  "
      ]
     },
     "execution_count": 6,
     "metadata": {},
     "output_type": "execute_result"
    }
   ],
   "source": [
    "venues_list = []\n",
    "venues = content['_embedded']['venues']\n",
    "\n",
    "for venue in venues:\n",
    "    venue_dict = {}\n",
    "    venue_dict['name'] = venue.get('name', np.nan)\n",
    "    venue_dict['city'] = venue['city']['name'] if venue.get('city', None) else np.nan\n",
    "    venue_dict['postalCode'] = venue.get('postalCode', np.nan)\n",
    "    venue_dict['address'] = venue['address']['line1'] if venue.get('address', None) else np.nan\n",
    "    venue_dict['url'] = venue.get('url', np.nan)\n",
    "    venue_dict['longitude'] = venue['location']['longitude'] if venue.get('location', None) else np.nan\n",
    "    venue_dict['latitude'] = venue['location']['latitude'] if venue.get('location', None) else np.nan\n",
    "    venues_list.append(venue_dict)\n",
    "\n",
    "\n",
    "df = pd.DataFrame(venues_list)\n",
    "df.head()"
   ]
  }
 ],
 "metadata": {
  "kernelspec": {
   "display_name": "Python 3 (ipykernel)",
   "language": "python",
   "name": "python3"
  },
  "language_info": {
   "codemirror_mode": {
    "name": "ipython",
    "version": 3
   },
   "file_extension": ".py",
   "mimetype": "text/x-python",
   "name": "python",
   "nbconvert_exporter": "python",
   "pygments_lexer": "ipython3",
   "version": "3.9.13"
  }
 },
 "nbformat": 4,
 "nbformat_minor": 5
}
