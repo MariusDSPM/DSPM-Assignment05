{
 "cells": [
  {
   "cell_type": "markdown",
   "id": "6aa89926",
   "metadata": {},
   "source": [
    "---\n",
    "\n",
    "# Assignment 5 - GitHub and the ticketmaster.com API\n",
    "\n",
    "##### Marius Knipp (Student ID: 6290375)\n",
    "##### January 25, 2023"
   ]
  },
  {
   "cell_type": "markdown",
   "id": "76bfe7f2",
   "metadata": {},
   "source": [
    "---\n",
    "### Getting to know the API"
   ]
  },
  {
   "cell_type": "markdown",
   "id": "9972bb02",
   "metadata": {},
   "source": [
    "6) Whithin the scope of this assignment, you do not have to request your own API key. Instead retrieve a valid key from the API Explorer. This API key enables you to perform the GET requests needed throughout this assignment. Even though this API key is not secret per se (it is publicly visible on the API Explorer website), please comply to the common secrecy practices discussed in the lecture and the tutorial: Treat the API key as a secret token. Your API key should neither appear in the code that you are submitting nor in your public GitHub repository."
   ]
  },
  {
   "cell_type": "code",
   "execution_count": 1,
   "id": "0313952d",
   "metadata": {},
   "outputs": [],
   "source": [
    "with open('ticketmaster_key.py') as script:\n",
    "    exec(script.readline())"
   ]
  }
 ],
 "metadata": {
  "kernelspec": {
   "display_name": "Python 3 (ipykernel)",
   "language": "python",
   "name": "python3"
  },
  "language_info": {
   "codemirror_mode": {
    "name": "ipython",
    "version": 3
   },
   "file_extension": ".py",
   "mimetype": "text/x-python",
   "name": "python",
   "nbconvert_exporter": "python",
   "pygments_lexer": "ipython3",
   "version": "3.9.13"
  }
 },
 "nbformat": 4,
 "nbformat_minor": 5
}
