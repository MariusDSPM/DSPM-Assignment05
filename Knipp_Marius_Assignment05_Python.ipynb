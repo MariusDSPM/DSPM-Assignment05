{
 "cells": [
  {
   "cell_type": "markdown",
   "id": "84534e6f",
   "metadata": {},
   "source": [
    "---\n",
    "\n",
    "# Assignment 5 - GitHub and the ticketmaster.com API\n",
    "\n",
    "##### Marius Knipp (Student ID: 6290375)\n",
    "##### January 25, 2023"
   ]
  },
  {
   "cell_type": "code",
   "execution_count": 10,
   "id": "eca2e74f",
   "metadata": {},
   "outputs": [],
   "source": [
    "import numpy as np\n",
    "import pandas as pd\n",
    "import matplotlib.pyplot as plt\n",
    "import geopandas as gpd\n",
    "import requests\n",
    "import time"
   ]
  },
  {
   "cell_type": "markdown",
   "id": "24785e71",
   "metadata": {},
   "source": [
    "---\n",
    "### Getting to know the API"
   ]
  },
  {
   "cell_type": "markdown",
   "id": "3964fc17",
   "metadata": {},
   "source": [
    "6) Whithin the scope of this assignment, you do not have to request your own API key. Instead retrieve a valid key from the API Explorer. This API key enables you to perform the GET requests needed throughout this assignment. Even though this API key is not secret per se (it is publicly visible on the API Explorer website), please comply to the common secrecy practices discussed in the lecture and the tutorial: Treat the API key as a secret token. Your API key should neither appear in the code that you are submitting nor in your public GitHub repository."
   ]
  },
  {
   "cell_type": "code",
   "execution_count": 2,
   "id": "496f379e",
   "metadata": {},
   "outputs": [],
   "source": [
    "with open('ticketmaster_key.py') as script:\n",
    "    exec(script.readline())"
   ]
  },
  {
   "cell_type": "markdown",
   "id": "079240ce",
   "metadata": {},
   "source": [
    "---\n",
    "\n",
    "### Interacting with the API - the basics"
   ]
  },
  {
   "cell_type": "markdown",
   "id": "b2981246",
   "metadata": {},
   "source": [
    "7) Perform a first `GET` request, that searches for event venues in Germany (`countryCode = \"DE\"`). Extract the content from the response object and inspect the resulting list. Describe what you can see."
   ]
  },
  {
   "cell_type": "code",
   "execution_count": 3,
   "id": "6c99eaff",
   "metadata": {},
   "outputs": [],
   "source": [
    "content = requests.get('https://app.ticketmaster.com/discovery/v2/venues',\n",
    "                       params={'apikey': ticketmaster_key, \n",
    "                               'locale': '*',\n",
    "                               'countryCode': 'DE'}).json()"
   ]
  },
  {
   "cell_type": "code",
   "execution_count": 4,
   "id": "26a7082e",
   "metadata": {},
   "outputs": [
    {
     "data": {
      "text/plain": [
       "{'size': 20, 'totalElements': 12932, 'totalPages': 647, 'number': 0}"
      ]
     },
     "execution_count": 4,
     "metadata": {},
     "output_type": "execute_result"
    }
   ],
   "source": [
    "content['page']"
   ]
  },
  {
   "cell_type": "code",
   "execution_count": 5,
   "id": "e1d48371",
   "metadata": {},
   "outputs": [
    {
     "data": {
      "text/plain": [
       "dict_keys(['name', 'type', 'id', 'test', 'url', 'locale', 'images', 'postalCode', 'timezone', 'city', 'country', 'address', 'location', 'markets', 'dmas', 'boxOfficeInfo', 'upcomingEvents', 'ada', '_links'])"
      ]
     },
     "execution_count": 5,
     "metadata": {},
     "output_type": "execute_result"
    }
   ],
   "source": [
    "content['_embedded']['venues'][0].keys()"
   ]
  },
  {
   "cell_type": "markdown",
   "id": "8d80e210",
   "metadata": {},
   "source": [
    "*Answer: The list contains 20 venues in Germany with various information about each venue (e.g. name, URL, city etc.). These 20 venues are only on the first page. In total, there are 647 pages with 20 venues each, adding up to 12932 venues in Germany.*"
   ]
  },
  {
   "cell_type": "markdown",
   "id": "225e194b",
   "metadata": {},
   "source": [
    "8) Extract the `name`, the `city`, the `postalCode` and `address`, as well as the `url` and the `longitude` and `latitude` of the venues to a data frame."
   ]
  },
  {
   "cell_type": "code",
   "execution_count": 6,
   "id": "ce4979a4",
   "metadata": {},
   "outputs": [
    {
     "data": {
      "text/html": [
       "<div>\n",
       "<style scoped>\n",
       "    .dataframe tbody tr th:only-of-type {\n",
       "        vertical-align: middle;\n",
       "    }\n",
       "\n",
       "    .dataframe tbody tr th {\n",
       "        vertical-align: top;\n",
       "    }\n",
       "\n",
       "    .dataframe thead th {\n",
       "        text-align: right;\n",
       "    }\n",
       "</style>\n",
       "<table border=\"1\" class=\"dataframe\">\n",
       "  <thead>\n",
       "    <tr style=\"text-align: right;\">\n",
       "      <th></th>\n",
       "      <th>name</th>\n",
       "      <th>city</th>\n",
       "      <th>postalCode</th>\n",
       "      <th>address</th>\n",
       "      <th>url</th>\n",
       "      <th>longitude</th>\n",
       "      <th>latitude</th>\n",
       "    </tr>\n",
       "  </thead>\n",
       "  <tbody>\n",
       "    <tr>\n",
       "      <th>0</th>\n",
       "      <td>Grosse Freiheit 36</td>\n",
       "      <td>Hamburg</td>\n",
       "      <td>22767</td>\n",
       "      <td>Grosse Freiheit 36</td>\n",
       "      <td>http://www.ticketmaster.de/venue/287636</td>\n",
       "      <td>9.957905</td>\n",
       "      <td>53.551187</td>\n",
       "    </tr>\n",
       "    <tr>\n",
       "      <th>1</th>\n",
       "      <td>Gruenspan</td>\n",
       "      <td>Hamburg</td>\n",
       "      <td>22767</td>\n",
       "      <td>Grosse Freiheit 58</td>\n",
       "      <td>http://www.ticketmaster.de/venue/287155</td>\n",
       "      <td>9.958075</td>\n",
       "      <td>53.551885</td>\n",
       "    </tr>\n",
       "    <tr>\n",
       "      <th>2</th>\n",
       "      <td>Huxleys Neue Welt</td>\n",
       "      <td>Berlin</td>\n",
       "      <td>10967</td>\n",
       "      <td>Hasenheide 107 – 113</td>\n",
       "      <td>http://www.ticketmaster.de/venue/286842</td>\n",
       "      <td>13.42138</td>\n",
       "      <td>52.486391</td>\n",
       "    </tr>\n",
       "    <tr>\n",
       "      <th>3</th>\n",
       "      <td>Zentrum am Park</td>\n",
       "      <td>Emmelshausen</td>\n",
       "      <td>56281</td>\n",
       "      <td>Rhein-Mosel-Straße 45</td>\n",
       "      <td>https://www.ticketmaster.de/venue/zentrum-am-p...</td>\n",
       "      <td>7.55656</td>\n",
       "      <td>50.15544</td>\n",
       "    </tr>\n",
       "    <tr>\n",
       "      <th>4</th>\n",
       "      <td>Stadthalle (Theatersaal)</td>\n",
       "      <td>Mülheim</td>\n",
       "      <td>45479</td>\n",
       "      <td>Theodor-Heuss-Platz 1</td>\n",
       "      <td>https://www.ticketmaster.de/venue/stadthalle-t...</td>\n",
       "      <td>6.87471</td>\n",
       "      <td>51.42778</td>\n",
       "    </tr>\n",
       "  </tbody>\n",
       "</table>\n",
       "</div>"
      ],
      "text/plain": [
       "                       name          city postalCode                address  \\\n",
       "0        Grosse Freiheit 36       Hamburg      22767     Grosse Freiheit 36   \n",
       "1                 Gruenspan       Hamburg      22767     Grosse Freiheit 58   \n",
       "2         Huxleys Neue Welt        Berlin      10967   Hasenheide 107 – 113   \n",
       "3           Zentrum am Park  Emmelshausen      56281  Rhein-Mosel-Straße 45   \n",
       "4  Stadthalle (Theatersaal)       Mülheim      45479  Theodor-Heuss-Platz 1   \n",
       "\n",
       "                                                 url longitude   latitude  \n",
       "0            http://www.ticketmaster.de/venue/287636  9.957905  53.551187  \n",
       "1            http://www.ticketmaster.de/venue/287155  9.958075  53.551885  \n",
       "2            http://www.ticketmaster.de/venue/286842  13.42138  52.486391  \n",
       "3  https://www.ticketmaster.de/venue/zentrum-am-p...   7.55656   50.15544  \n",
       "4  https://www.ticketmaster.de/venue/stadthalle-t...   6.87471   51.42778  "
      ]
     },
     "execution_count": 6,
     "metadata": {},
     "output_type": "execute_result"
    }
   ],
   "source": [
    "venues_list = []\n",
    "venues = content['_embedded']['venues']\n",
    "\n",
    "for venue in venues:\n",
    "    venue_dict = {}\n",
    "    venue_dict['name'] = venue.get('name', np.nan)\n",
    "    venue_dict['city'] = venue['city']['name'] if venue.get('city', None) else np.nan\n",
    "    venue_dict['postalCode'] = venue.get('postalCode', np.nan)\n",
    "    venue_dict['address'] = venue['address']['line1'] if venue.get('address', None) else np.nan\n",
    "    venue_dict['url'] = venue.get('url', np.nan)\n",
    "    venue_dict['longitude'] = venue['location']['longitude'] if venue.get('location', None) else np.nan\n",
    "    venue_dict['latitude'] = venue['location']['latitude'] if venue.get('location', None) else np.nan\n",
    "    venues_list.append(venue_dict)\n",
    "\n",
    "\n",
    "df = pd.DataFrame(venues_list)\n",
    "df.head()"
   ]
  },
  {
   "cell_type": "markdown",
   "id": "63687e5a",
   "metadata": {},
   "source": [
    "---\n",
    "\n",
    "### Interacting with the API - advanced"
   ]
  },
  {
   "cell_type": "markdown",
   "id": "a1df26e4",
   "metadata": {},
   "source": [
    "9) Have a closer look at the list element named page. Did your `GET` request from exercise (7) return all event locations in Germany? Obviously not - there are of course much more venues in Germany than those contained in this list. Your `GET` request only yielded the first results page containing the first 20 out of several thousands of venues. Check the API documentation under the section Venue Search. How can you request the venues from the remaining results pages? Iterate over the results pages and perform `GET` requests for all venues in Germany. After each iteration, extract the seven variables `name`, `city`, `postalCode`, `address`, `url`, `longitude`, and `latitude`. Join the information in one large data frame. Print the first 10 rows and the shape of the resulting data frame. "
   ]
  },
  {
   "cell_type": "code",
   "execution_count": 7,
   "id": "9310bb7f",
   "metadata": {},
   "outputs": [],
   "source": [
    "def get_venues(country):\n",
    "    \n",
    "    # Perform GET request to extract the number of total pages\n",
    "    content = requests.get('https://app.ticketmaster.com/discovery/v2/venues',\n",
    "                           params={'apikey': ticketmaster_key, \n",
    "                                   'locale': '*',\n",
    "                                   'countryCode': country}).json()\n",
    "\n",
    "    n_pages = content['page']['totalPages']\n",
    "    \n",
    "    # Empty list to store data\n",
    "    venues_list = []\n",
    "    \n",
    "    # Iterate through pages\n",
    "    for page in range(n_pages):\n",
    "        # Limitation of 5 requests per second\n",
    "        time.sleep(.2)\n",
    "        \n",
    "        # Perform GET request of the page in a while statement, \n",
    "        # because sometimes an error occurs, when performing the GET request\n",
    "        venues = None\n",
    "        while venues is None: \n",
    "            try:\n",
    "                content = requests.get('https://app.ticketmaster.com/discovery/v2/venues.json?',\n",
    "                                       params={'apikey': ticketmaster_key,\n",
    "                                               'locale': '*',\n",
    "                                               'countryCode': country, \n",
    "                                               'page': page}).json()\n",
    "\n",
    "                venues = content['_embedded']['venues']\n",
    "            except:\n",
    "                pass\n",
    "        \n",
    "        # Iterate through venues on the page\n",
    "        for venue in venues:\n",
    "            # Extract the information and store it in a dictionary\n",
    "            venue_dict = {}\n",
    "            # Extract name if available\n",
    "            venue_dict['name'] = venue.get('name', np.nan)\n",
    "            # Extract city name if available\n",
    "            venue_dict['city'] = venue['city']['name'] if venue.get('city', None) else np.nan\n",
    "            # Extract postal code if available\n",
    "            venue_dict['postalCode'] = venue.get('postalCode', np.nan)\n",
    "            # Extract first value of address if available\n",
    "            venue_dict['address'] = list(venue['address'].values())[0] if venue.get('address', None) else np.nan\n",
    "            # Extract URL if available\n",
    "            venue_dict['url'] = venue.get('url', np.nan)\n",
    "            # Extract longitude if available\n",
    "            venue_dict['longitude'] = venue['location']['longitude'] if venue.get('location', None) else np.nan\n",
    "            # Extract latitude if available\n",
    "            venue_dict['latitude'] = venue['location']['latitude'] if venue.get('location', None) else np.nan\n",
    "            \n",
    "            # Append the dictionary to the list\n",
    "            venues_list.append(venue_dict)\n",
    "    \n",
    "    # Convert list of dictionaries to a data frame\n",
    "    venues_df = pd.DataFrame(venues_list)\n",
    "    return venues_df"
   ]
  },
  {
   "cell_type": "code",
   "execution_count": 8,
   "id": "d24fffbd",
   "metadata": {},
   "outputs": [
    {
     "data": {
      "text/html": [
       "<div>\n",
       "<style scoped>\n",
       "    .dataframe tbody tr th:only-of-type {\n",
       "        vertical-align: middle;\n",
       "    }\n",
       "\n",
       "    .dataframe tbody tr th {\n",
       "        vertical-align: top;\n",
       "    }\n",
       "\n",
       "    .dataframe thead th {\n",
       "        text-align: right;\n",
       "    }\n",
       "</style>\n",
       "<table border=\"1\" class=\"dataframe\">\n",
       "  <thead>\n",
       "    <tr style=\"text-align: right;\">\n",
       "      <th></th>\n",
       "      <th>name</th>\n",
       "      <th>city</th>\n",
       "      <th>postalCode</th>\n",
       "      <th>address</th>\n",
       "      <th>url</th>\n",
       "      <th>longitude</th>\n",
       "      <th>latitude</th>\n",
       "    </tr>\n",
       "  </thead>\n",
       "  <tbody>\n",
       "    <tr>\n",
       "      <th>0</th>\n",
       "      <td>Grosse Freiheit 36</td>\n",
       "      <td>Hamburg</td>\n",
       "      <td>22767</td>\n",
       "      <td>Grosse Freiheit 36</td>\n",
       "      <td>http://www.ticketmaster.de/venue/287636</td>\n",
       "      <td>9.957905</td>\n",
       "      <td>53.551187</td>\n",
       "    </tr>\n",
       "    <tr>\n",
       "      <th>1</th>\n",
       "      <td>Gruenspan</td>\n",
       "      <td>Hamburg</td>\n",
       "      <td>22767</td>\n",
       "      <td>Grosse Freiheit 58</td>\n",
       "      <td>http://www.ticketmaster.de/venue/287155</td>\n",
       "      <td>9.958075</td>\n",
       "      <td>53.551885</td>\n",
       "    </tr>\n",
       "    <tr>\n",
       "      <th>2</th>\n",
       "      <td>Huxleys Neue Welt</td>\n",
       "      <td>Berlin</td>\n",
       "      <td>10967</td>\n",
       "      <td>Hasenheide 107 – 113</td>\n",
       "      <td>http://www.ticketmaster.de/venue/286842</td>\n",
       "      <td>13.42138</td>\n",
       "      <td>52.486391</td>\n",
       "    </tr>\n",
       "    <tr>\n",
       "      <th>3</th>\n",
       "      <td>Zentrum am Park</td>\n",
       "      <td>Emmelshausen</td>\n",
       "      <td>56281</td>\n",
       "      <td>Rhein-Mosel-Straße 45</td>\n",
       "      <td>https://www.ticketmaster.de/venue/zentrum-am-p...</td>\n",
       "      <td>7.55656</td>\n",
       "      <td>50.15544</td>\n",
       "    </tr>\n",
       "    <tr>\n",
       "      <th>4</th>\n",
       "      <td>Stadthalle (Theatersaal)</td>\n",
       "      <td>Mülheim</td>\n",
       "      <td>45479</td>\n",
       "      <td>Theodor-Heuss-Platz 1</td>\n",
       "      <td>https://www.ticketmaster.de/venue/stadthalle-t...</td>\n",
       "      <td>6.87471</td>\n",
       "      <td>51.42778</td>\n",
       "    </tr>\n",
       "    <tr>\n",
       "      <th>5</th>\n",
       "      <td>Schlossgarten</td>\n",
       "      <td>Bruchsal</td>\n",
       "      <td>76646</td>\n",
       "      <td>Schloss Bruchsal</td>\n",
       "      <td>https://www.ticketmaster.de/venue/schlossgarte...</td>\n",
       "      <td>8.59908</td>\n",
       "      <td>49.12692</td>\n",
       "    </tr>\n",
       "    <tr>\n",
       "      <th>6</th>\n",
       "      <td>Stadthalle</td>\n",
       "      <td>Hockenheim</td>\n",
       "      <td>68766</td>\n",
       "      <td>Rathausstraße 3</td>\n",
       "      <td>https://www.ticketmaster.de/venue/stadthalle-h...</td>\n",
       "      <td>8.54908</td>\n",
       "      <td>49.31849</td>\n",
       "    </tr>\n",
       "    <tr>\n",
       "      <th>7</th>\n",
       "      <td>FZW</td>\n",
       "      <td>Dortmund</td>\n",
       "      <td>44263</td>\n",
       "      <td>Ritterstraße 20</td>\n",
       "      <td>https://www.ticketmaster.de/venue/fzw-dortmund...</td>\n",
       "      <td>7.4501</td>\n",
       "      <td>51.51481</td>\n",
       "    </tr>\n",
       "    <tr>\n",
       "      <th>8</th>\n",
       "      <td>Arena Trier</td>\n",
       "      <td>Trier</td>\n",
       "      <td>54292</td>\n",
       "      <td>Fort-Worth-Platz 1</td>\n",
       "      <td>https://www.ticketmaster.de/venue/arena-trier-...</td>\n",
       "      <td>6.66426</td>\n",
       "      <td>49.77183</td>\n",
       "    </tr>\n",
       "    <tr>\n",
       "      <th>9</th>\n",
       "      <td>Eissporthalle</td>\n",
       "      <td>Memmingen</td>\n",
       "      <td>87700</td>\n",
       "      <td>Hühnerbergstraße 19</td>\n",
       "      <td>https://www.ticketmaster.de/venue/eissporthall...</td>\n",
       "      <td>10.16293</td>\n",
       "      <td>47.97999</td>\n",
       "    </tr>\n",
       "  </tbody>\n",
       "</table>\n",
       "</div>"
      ],
      "text/plain": [
       "                       name          city postalCode                address  \\\n",
       "0        Grosse Freiheit 36       Hamburg      22767     Grosse Freiheit 36   \n",
       "1                 Gruenspan       Hamburg      22767     Grosse Freiheit 58   \n",
       "2         Huxleys Neue Welt        Berlin      10967   Hasenheide 107 – 113   \n",
       "3           Zentrum am Park  Emmelshausen      56281  Rhein-Mosel-Straße 45   \n",
       "4  Stadthalle (Theatersaal)       Mülheim      45479  Theodor-Heuss-Platz 1   \n",
       "5             Schlossgarten      Bruchsal      76646       Schloss Bruchsal   \n",
       "6                Stadthalle    Hockenheim      68766        Rathausstraße 3   \n",
       "7                       FZW      Dortmund      44263        Ritterstraße 20   \n",
       "8               Arena Trier         Trier      54292     Fort-Worth-Platz 1   \n",
       "9             Eissporthalle     Memmingen      87700    Hühnerbergstraße 19   \n",
       "\n",
       "                                                 url longitude   latitude  \n",
       "0            http://www.ticketmaster.de/venue/287636  9.957905  53.551187  \n",
       "1            http://www.ticketmaster.de/venue/287155  9.958075  53.551885  \n",
       "2            http://www.ticketmaster.de/venue/286842  13.42138  52.486391  \n",
       "3  https://www.ticketmaster.de/venue/zentrum-am-p...   7.55656   50.15544  \n",
       "4  https://www.ticketmaster.de/venue/stadthalle-t...   6.87471   51.42778  \n",
       "5  https://www.ticketmaster.de/venue/schlossgarte...   8.59908   49.12692  \n",
       "6  https://www.ticketmaster.de/venue/stadthalle-h...   8.54908   49.31849  \n",
       "7  https://www.ticketmaster.de/venue/fzw-dortmund...    7.4501   51.51481  \n",
       "8  https://www.ticketmaster.de/venue/arena-trier-...   6.66426   49.77183  \n",
       "9  https://www.ticketmaster.de/venue/eissporthall...  10.16293   47.97999  "
      ]
     },
     "execution_count": 8,
     "metadata": {},
     "output_type": "execute_result"
    }
   ],
   "source": [
    "venues_germany = get_venues('DE')\n",
    "venues_germany.head(10)"
   ]
  },
  {
   "cell_type": "code",
   "execution_count": 9,
   "id": "7b9a00f2",
   "metadata": {},
   "outputs": [
    {
     "data": {
      "text/plain": [
       "(12932, 7)"
      ]
     },
     "execution_count": 9,
     "metadata": {},
     "output_type": "execute_result"
    }
   ],
   "source": [
    "venues_germany.shape"
   ]
  },
  {
   "cell_type": "markdown",
   "id": "289f5d3f",
   "metadata": {},
   "source": [
    "---\n",
    "\n",
    "### Visualizing the extracted data"
   ]
  },
  {
   "cell_type": "markdown",
   "id": "587285f6",
   "metadata": {},
   "source": [
    "10) Below, you can find code that produces a map of Germany. Add points to the map indicating the locations of the event venues across Germany.\n",
    "\n",
    "\n",
    "11) You will find that some coordinates lie way beyond the German borders and can be assumed to be faulty. Set coordinate values to `NA` where the value of `longitude` is outside the range (`5.866, 15.042`) or where the value of `latitude` is outside the range (`47.270, 55.059`)."
   ]
  },
  {
   "cell_type": "code",
   "execution_count": 11,
   "id": "42f508c4",
   "metadata": {},
   "outputs": [],
   "source": [
    "def plot_venues(venues, country, lo_min, lo_max, lat_min, lat_max):\n",
    "    \n",
    "    # Change data type of 'longitude' and 'latitude' to float\n",
    "    venues[['longitude', 'latitude']] = venues[['longitude', 'latitude']].astype(float)\n",
    "    \n",
    "    # Set coordinates outside the range to NaN\n",
    "    venues['longitude'] = venues['longitude'].mask((venues['longitude'] < lo_min) |\n",
    "                                                   (venues['longitude'] > lo_max))\n",
    "    venues['latitude'] = venues['latitude'].mask((venues['latitude'] < lat_min) |\n",
    "                                                 (venues['latitude'] > lat_max))\n",
    "    \n",
    "    # Get a base map the country\n",
    "    map = gpd.read_file(gpd.datasets.get_path(\"naturalearth_lowres\"))\n",
    "    map = map[map.name == country]\n",
    "\n",
    "    fig, ax = plt.subplots()\n",
    "\n",
    "    # Plot the map\n",
    "    map.plot(ax = ax)\n",
    "\n",
    "    # Plot the venues\n",
    "    x = venues['longitude']\n",
    "    y = venues['latitude']\n",
    "    plt.scatter(x, y, s=1, color='red')\n",
    "\n",
    "    plt.show()"
   ]
  },
  {
   "cell_type": "code",
   "execution_count": 12,
   "id": "56de4960",
   "metadata": {},
   "outputs": [
    {
     "data": {
      "image/png": "[encoded data removed]",
      "text/plain": [
       "<Figure size 640x480 with 1 Axes>"
      ]
     },
     "metadata": {},
     "output_type": "display_data"
    }
   ],
   "source": [
    "# Extreme points of Germany\n",
    "lo_min, lo_max = 5.866, 15.042\n",
    "lat_min, lat_max = 47.270, 55.059\n",
    "\n",
    "plot_venues(venues_germany, 'Germany', lo_min, lo_max, lat_min, lat_max)"
   ]
  }
 ],
 "metadata": {
  "kernelspec": {
   "display_name": "Python 3 (ipykernel)",
   "language": "python",
   "name": "python3"
  },
  "language_info": {
   "codemirror_mode": {
    "name": "ipython",
    "version": 3
   },
   "file_extension": ".py",
   "mimetype": "text/x-python",
   "name": "python",
   "nbconvert_exporter": "python",
   "pygments_lexer": "ipython3",
   "version": "3.9.13"
  }
 },
 "nbformat": 4,
 "nbformat_minor": 5
}
